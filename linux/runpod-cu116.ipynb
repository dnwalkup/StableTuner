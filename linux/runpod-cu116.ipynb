{
 "cells": [
  {
   "attachments": {},
   "cell_type": "markdown",
   "metadata": {},
   "source": [
    "# StableTuner v0.1.0 for Linux"
   ]
  },
  {
   "attachments": {},
   "cell_type": "markdown",
   "metadata": {},
   "source": [
    "Original version https://github.com/devilismyfriend/StableTuner\n",
    "<br><br>\n",
    "Testing on docker image dnwalkup/cuda:116-cudnn8-devel-u2004:\n",
    "<br>\n",
    "* Ubuntu 20.04, Nvidia CUDNN 8, CUDA 1.16 <br>\n",
    "* PIP'd - gDown, wget, ftfy, OmegaConf, tqdm, tensorboard, transfomers, triton, pillow, iPython, pycuda, ipywidgets, jupyterlab <br>\n",
    "* APT'd - zip, unzip, rename, python3, python3-apt, python3-diskutils, python3-pip <br>"
   ]
  },
  {
   "attachments": {},
   "cell_type": "markdown",
   "metadata": {},
   "source": [
    "### Set Global Variables and Imports"
   ]
  },
  {
   "cell_type": "code",
   "execution_count": null,
   "metadata": {},
   "outputs": [],
   "source": [
    "google_data_cap = False\n",
    "#Is google capping your bandwidth and not letting you download your files? If so, this needs to be true.\n",
    "\n",
    "goog_dataset_url = \"\"\n",
    "#Google url for your training dataset (e.g. instance images or user images). Use zip file.\n",
    "\n",
    "other_dataset_url = \"\"\n",
    "#Hugging face, dropbox, etc. if google is capping your bandwidth for your training dataset (e.g. instance images or user images). Use zip file.\n",
    "\n",
    "# Add class images feature\n",
    "#goog_regimg_url = \"\"\n",
    "#Google url for your regularization images (e.g. class images). Use zip file.\n",
    "\n",
    "#other_regimg_url = \"\"\n",
    "#Hugging face, dropbox, etc. if google is capping your bandwith for your regularization images (e.g. class images). Use zip file.\n",
    "\n",
    "\n",
    "from subprocess import getoutput\n",
    "from IPython.display import clear_output\n",
    "\n",
    "clear_output()\n",
    "print('Imports complete')"
   ]
  },
  {
   "attachments": {},
   "cell_type": "markdown",
   "metadata": {},
   "source": [
    "### Install Apt Dependencies for Linux"
   ]
  },
  {
   "cell_type": "code",
   "execution_count": null,
   "metadata": {},
   "outputs": [],
   "source": [
    "!apt update\n",
    "!apt install -y git\n",
    "!apt install -y nvidia-cuda-toolkit\n",
    "!apt install -y zip\n",
    "!apt install -y unzip\n",
    "\n",
    "clear_output()\n",
    "print('Apt installs complete')"
   ]
  },
  {
   "attachments": {},
   "cell_type": "markdown",
   "metadata": {},
   "source": [
    "### Install Pip Dependencies"
   ]
  },
  {
   "cell_type": "code",
   "execution_count": null,
   "metadata": {},
   "outputs": [],
   "source": [
    "!python3 -m pip install scikit-image\n",
    "!python3 -m pip install scipy\n",
    "!python3 -m pip install numpy\n",
    "!python3 -m pip install requests\n",
    "!python3 -m pip install bitsandbytes\n",
    "!python3 -m pip install accelerate==0.15.0\n",
    "!python3 -m pip install huggingface\n",
    "!python3 -m pip install albumentations\n",
    "!python3 -m pip install opencv-python\n",
    "!python3 -m pip install einops\n",
    "!python3 -m pip install pytorch_lightning\n",
    "!python3 -m pip install bitsandbytes==0.35.0\n",
    "!python3 -m pip install safetensors\n",
    "!python3 -m pip install diffusers\n",
    "\n",
    "clear_output()\n",
    "print('Pip installs complete')"
   ]
  },
  {
   "attachments": {},
   "cell_type": "markdown",
   "metadata": {},
   "source": [
    "### Install xFormers and Final Dependencies"
   ]
  },
  {
   "cell_type": "code",
   "execution_count": null,
   "metadata": {},
   "outputs": [],
   "source": [
    "GPU_CardName = getoutput('nvidia-smi --query-gpu=name --format=csv,noheader')\n",
    "\n",
    "if '3090' in GPU_CardName:\n",
    "    !python3 -m pip install https://huggingface.co/dnwalkup/xformers-precompiles/resolve/main/RTX3090-xf14-cu116-py38/xformers-0.0.14.dev0-cp38-cp38-linux_x86_64.whl\n",
    "    !python3 -m pip uninstall -y torch torchvision\n",
    "    !python3 -m pip install https://download.pytorch.org/whl/cu116/torch-1.12.1%2Bcu116-cp38-cp38-linux_x86_64.whl\n",
    "    !python3 -m pip install https://download.pytorch.org/whl/cu116/torchvision-0.13.1%2Bcu116-cp38-cp38-linux_x86_64.whl\n",
    "    !python3 -m pip install timm\n",
    "    clear_output()\n",
    "    print('xFormers and pyTorch installs complete')\n",
    "elif 'A5000' in GPU_CardName:\n",
    "    !python3 -m pip install https://huggingface.co/dnwalkup/xformers-precompiles/resolve/main/A5000-xf14-cu116-py38/xformers-0.0.14.dev0-cp38-cp38-linux_x86_64.whl\n",
    "    !python3 -m pip uninstall -y torch torchvision\n",
    "    !python3 -m pip install https://download.pytorch.org/whl/cu116/torch-1.12.1%2Bcu116-cp38-cp38-linux_x86_64.whl\n",
    "    !python3 -m pip install https://download.pytorch.org/whl/cu116/torchvision-0.13.1%2Bcu116-cp38-cp38-linux_x86_64.whl\n",
    "    !python3 -m pip install timm\n",
    "    clear_output()\n",
    "    print('xFormers and pyTorch installs complete')\n",
    "else:\n",
    "    print('No prebuilt xformers available for your card')"
   ]
  },
  {
   "attachments": {},
   "cell_type": "markdown",
   "metadata": {},
   "source": [
    "### Download Necessary Files"
   ]
  },
  {
   "cell_type": "code",
   "execution_count": null,
   "metadata": {},
   "outputs": [],
   "source": [
    "!mkdir /workspace/scripts\n",
    "%cd /workspace/scripts\n",
    "\n",
    "!wget -O trainer.py https://github.com/dnwalkup/StableTuner/raw/main/linux/scripts/trainer.py\n",
    "!wget -O converters.py https://github.com/dnwalkup/StableTuner/raw/main/linux/scripts/converters.py\n",
    "\n",
    "%cd /workspace\n",
    "\n",
    "clear_output()\n",
    "print('Training files downloaded')"
   ]
  },
  {
   "attachments": {},
   "cell_type": "markdown",
   "metadata": {},
   "source": [
    "### Download Training Dataset"
   ]
  },
  {
   "cell_type": "code",
   "execution_count": null,
   "metadata": {},
   "outputs": [],
   "source": [
    "if google_data_cap == False:\n",
    "    !gdown --fuzzy $goog_dataset_url -O dataset.zip\n",
    "else:\n",
    "    !wget -O dataset.zip $other_dataset_url\n",
    "\n",
    "!unzip dataset.zip\n",
    "!rm dataset.zip         #Delete downloaded zip to save space, comment out with \"#\" if you want to keep.\n",
    "\n",
    "clear_output()\n",
    "print('Instance images downloaded and unzipped')"
   ]
  },
  {
   "attachments": {},
   "cell_type": "markdown",
   "metadata": {},
   "source": [
    "### Download Regularization Images (SKIP FOR NOW)"
   ]
  },
  {
   "cell_type": "code",
   "execution_count": null,
   "metadata": {},
   "outputs": [],
   "source": [
    "if google_data_cap == False:\n",
    "    !gdown --fuzzy $goog_regimg_url -O reg_images.zip\n",
    "else:\n",
    "    !wget -O reg_images.zip $other_regimg_url\n",
    "\n",
    "!unzip reg_images.zip\n",
    "!rm reg_images.zip         #Delete downloaded zip to save space, comment out with \"#\" if you want to keep.\n",
    "\n",
    "clear_output()\n",
    "print('Regularization images downloaded and unzipped')"
   ]
  },
  {
   "attachments": {},
   "cell_type": "markdown",
   "metadata": {},
   "source": [
    "### Launch Training"
   ]
  },
  {
   "cell_type": "code",
   "execution_count": null,
   "metadata": {},
   "outputs": [],
   "source": [
    "!accelerate launch \"--mixed_precision=fp16\" \"/workspace/scripts/trainer.py\" \\\n",
    "    \"--disable_cudnn_benchmark\" \\\n",
    "    \"--use_text_files_as_captions\" \\\n",
    "    \"--pretrained_model_name_or_path=stabilityai/stable-diffusion-2-1\" \\\n",
    "    \"--pretrained_vae_name_or_path=\" \\\n",
    "    \"--output_dir=/workspace/output_model\" \\\n",
    "    \"--seed=3434554\" \\\n",
    "    \"--resolution=768\" \\\n",
    "    \"--train_batch_size=1\" \\\n",
    "    \"--num_train_epochs=100\" \\\n",
    "    \"--mixed_precision=fp16\" \\\n",
    "    \"--use_bucketing\" \\\n",
    "    \"--use_8bit_adam\" \\\n",
    "    \"--gradient_checkpointing\" \\\n",
    "    \"--gradient_accumulation_steps=1\" \\\n",
    "    \"--learning_rate=3e-6\" \\\n",
    "    \"--lr_warmup_steps=0\" \\\n",
    "    \"--lr_scheduler=constant\" \\\n",
    "    \"--save_latents_cache\" \\\n",
    "    \"--concepts_list=/workspace/stabletune_concept_list.json\" \\\n",
    "    \"--num_class_images=0\" \\\n",
    "    \"--save_every_n_epoch=10\" \\\n",
    "    \"--train_text_encoder\" \\\n",
    "    \"--n_save_sample=0\" \\\n",
    "    \"--sample_height=512\" \\\n",
    "    \"--sample_width=512\" \\\n",
    "    \"--dataset_repeats=1\""
   ]
  }
 ],
 "metadata": {
  "kernelspec": {
   "display_name": "Python 3",
   "language": "python",
   "name": "python3"
  },
  "language_info": {
   "name": "python",
   "version": "3.10.6 (tags/v3.10.6:9c7b4bd, Aug  1 2022, 21:53:49) [MSC v.1932 64 bit (AMD64)]"
  },
  "orig_nbformat": 4,
  "vscode": {
   "interpreter": {
    "hash": "26de051ba29f2982a8de78e945f0abaf191376122a1563185a90213a26c5da77"
   }
  }
 },
 "nbformat": 4,
 "nbformat_minor": 2
}
